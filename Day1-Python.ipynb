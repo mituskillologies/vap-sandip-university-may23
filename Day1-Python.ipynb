{
 "cells": [
  {
   "cell_type": "code",
   "execution_count": 1,
   "id": "5025531e",
   "metadata": {},
   "outputs": [
    {
     "name": "stdout",
     "output_type": "stream",
     "text": [
      "Enter selling cost: 340\n",
      "Enter purchase cost: 120\n",
      "Profit:  220\n"
     ]
    }
   ],
   "source": [
    "selling = int(input('Enter selling cost: '))\n",
    "purchase = int(input('Enter purchase cost: '))\n",
    "if selling > purchase:\n",
    "    print('Profit: ', selling - purchase)\n",
    "else:\n",
    "    print('Loss: ', purchase-selling)"
   ]
  },
  {
   "cell_type": "code",
   "execution_count": null,
   "id": "1c657839",
   "metadata": {},
   "outputs": [],
   "source": [
    "year = int(input('Enter the year: '))\n",
    "if year % 4 == 0:\n",
    "    if year % 100 == 0:\n",
    "        if year % 400 == 0:\n",
    "            print('Leap year')\n",
    "        else:\n",
    "            print('No Leap')\n",
    "    else:\n",
    "        print('Leap Year')\n",
    "else:\n",
    "    print('Not Leap')"
   ]
  },
  {
   "cell_type": "code",
   "execution_count": 3,
   "id": "ff5719d3",
   "metadata": {},
   "outputs": [
    {
     "data": {
      "text/plain": [
       "[5, 6, 2, 8, 9, 0, 1, 3, 4, 7]"
      ]
     },
     "execution_count": 3,
     "metadata": {},
     "output_type": "execute_result"
    }
   ],
   "source": [
    "num = [5, 6, 2, 8, 9, 1, 3, 7, 4, 0]\n",
    "x = num[:5]\n",
    "y = num[5:]\n",
    "y.sort()\n",
    "num = x + y\n",
    "num"
   ]
  },
  {
   "cell_type": "code",
   "execution_count": 5,
   "id": "5c11493b",
   "metadata": {},
   "outputs": [
    {
     "data": {
      "text/plain": [
       "[1, 2, 3, 5, 6, 7]"
      ]
     },
     "execution_count": 5,
     "metadata": {},
     "output_type": "execute_result"
    }
   ],
   "source": [
    "x = [1,2,3]\n",
    "y = [1,2,3]\n",
    "x.append([5,6,7])\n",
    "y.extend([5,6,7])\n",
    "y"
   ]
  },
  {
   "cell_type": "code",
   "execution_count": 6,
   "id": "cce2b02d",
   "metadata": {},
   "outputs": [
    {
     "data": {
      "text/plain": [
       "[1, 2, 3, [5, 6, 7]]"
      ]
     },
     "execution_count": 6,
     "metadata": {},
     "output_type": "execute_result"
    }
   ],
   "source": [
    "x"
   ]
  },
  {
   "cell_type": "code",
   "execution_count": 7,
   "id": "078ea340",
   "metadata": {},
   "outputs": [],
   "source": [
    "metals = ['silver', 'copper', 'gold', 'silver', \n",
    "          'aluminium', 'copper', 'gold', 'silver']"
   ]
  },
  {
   "cell_type": "code",
   "execution_count": 8,
   "id": "6d6a444c",
   "metadata": {},
   "outputs": [],
   "source": [
    "new_metals = []\n",
    "for metal in metals:\n",
    "    if metal != 'copper':\n",
    "        new_metals.append(metal)"
   ]
  },
  {
   "cell_type": "code",
   "execution_count": 9,
   "id": "14128c30",
   "metadata": {},
   "outputs": [
    {
     "data": {
      "text/plain": [
       "['silver', 'gold', 'silver', 'aluminium', 'gold', 'silver']"
      ]
     },
     "execution_count": 9,
     "metadata": {},
     "output_type": "execute_result"
    }
   ],
   "source": [
    "new_metals"
   ]
  },
  {
   "cell_type": "code",
   "execution_count": 10,
   "id": "71136d13",
   "metadata": {},
   "outputs": [],
   "source": [
    "num = [34,67,43,12,38,77,38,19,32,11]"
   ]
  },
  {
   "cell_type": "code",
   "execution_count": null,
   "id": "feeeee59",
   "metadata": {},
   "outputs": [],
   "source": [
    "Create two lists which stores odd and even\n",
    "numbers in it."
   ]
  },
  {
   "cell_type": "code",
   "execution_count": 12,
   "id": "8834f455",
   "metadata": {},
   "outputs": [
    {
     "name": "stdout",
     "output_type": "stream",
     "text": [
      "Odd list: [67, 43, 77, 19, 11]\n",
      "Even list: [34, 12, 38, 38, 32]\n"
     ]
    }
   ],
   "source": [
    "odd, even = [], []\n",
    "for i in num:\n",
    "    if i%2 == 0:\n",
    "        even.append(i)\n",
    "    else:\n",
    "        odd.append(i)\n",
    "print('Odd list:', odd)\n",
    "print('Even list:', even)"
   ]
  },
  {
   "cell_type": "code",
   "execution_count": 16,
   "id": "50219aab",
   "metadata": {},
   "outputs": [
    {
     "data": {
      "text/plain": [
       "[34, 12, 38, 38, 32]"
      ]
     },
     "execution_count": 16,
     "metadata": {},
     "output_type": "execute_result"
    }
   ],
   "source": [
    "even = filter(lambda x: x%2==0, num)\n",
    "odd = filter(lambda x: x%2==1, num)\n",
    "list(even)"
   ]
  },
  {
   "cell_type": "code",
   "execution_count": 17,
   "id": "5c660eba",
   "metadata": {},
   "outputs": [
    {
     "data": {
      "text/plain": [
       "[67, 43, 77, 19, 11]"
      ]
     },
     "execution_count": 17,
     "metadata": {},
     "output_type": "execute_result"
    }
   ],
   "source": [
    "list(odd)"
   ]
  },
  {
   "cell_type": "code",
   "execution_count": 19,
   "id": "03d49b76",
   "metadata": {},
   "outputs": [
    {
     "data": {
      "text/plain": [
       "[34, 12, 38, 38, 32]"
      ]
     },
     "execution_count": 19,
     "metadata": {},
     "output_type": "execute_result"
    }
   ],
   "source": [
    "even = [x for x in num if x % 2 == 0]\n",
    "even"
   ]
  },
  {
   "cell_type": "code",
   "execution_count": 21,
   "id": "f0ba476b",
   "metadata": {},
   "outputs": [],
   "source": [
    "list = 67"
   ]
  },
  {
   "cell_type": "code",
   "execution_count": 23,
   "id": "b760807b",
   "metadata": {},
   "outputs": [],
   "source": [
    "del list"
   ]
  },
  {
   "cell_type": "code",
   "execution_count": 24,
   "id": "5c51a657",
   "metadata": {},
   "outputs": [
    {
     "data": {
      "text/plain": [
       "[34, 12, 38, 38, 32]"
      ]
     },
     "execution_count": 24,
     "metadata": {},
     "output_type": "execute_result"
    }
   ],
   "source": [
    "list(even)"
   ]
  },
  {
   "cell_type": "code",
   "execution_count": 27,
   "id": "3805e6f7",
   "metadata": {},
   "outputs": [],
   "source": [
    "def factorial(n):\n",
    "    fact = 1\n",
    "    for i in range(1,n+1):\n",
    "        fact = fact * i\n",
    "    return fact"
   ]
  },
  {
   "cell_type": "code",
   "execution_count": 28,
   "id": "89e9a109",
   "metadata": {},
   "outputs": [
    {
     "data": {
      "text/plain": [
       "120"
      ]
     },
     "execution_count": 28,
     "metadata": {},
     "output_type": "execute_result"
    }
   ],
   "source": [
    "factorial(5)"
   ]
  },
  {
   "cell_type": "code",
   "execution_count": 29,
   "id": "1b288b79",
   "metadata": {},
   "outputs": [
    {
     "name": "stdout",
     "output_type": "stream",
     "text": [
      "n: 5\n",
      "r: 2\n",
      "nCr: 10.0\n"
     ]
    }
   ],
   "source": [
    "n,r = int(input('n: ')),int(input('r: '))\n",
    "ncr = factorial(n)/((factorial(r)*factorial(n-r)))\n",
    "print('nCr:', ncr)"
   ]
  },
  {
   "cell_type": "code",
   "execution_count": 33,
   "id": "78896d7f",
   "metadata": {},
   "outputs": [],
   "source": [
    "t = [6,4,5,2,7,8,9]"
   ]
  },
  {
   "cell_type": "code",
   "execution_count": 34,
   "id": "d7a59caa",
   "metadata": {},
   "outputs": [
    {
     "data": {
      "text/plain": [
       "[2, 4, 5, 6, 7, 8, 9]"
      ]
     },
     "execution_count": 34,
     "metadata": {},
     "output_type": "execute_result"
    }
   ],
   "source": [
    "sorted(t)"
   ]
  },
  {
   "cell_type": "code",
   "execution_count": 31,
   "id": "727a394b",
   "metadata": {},
   "outputs": [],
   "source": [
    "t.sort()"
   ]
  },
  {
   "cell_type": "code",
   "execution_count": 32,
   "id": "546eeb4e",
   "metadata": {},
   "outputs": [
    {
     "data": {
      "text/plain": [
       "[2, 4, 5, 6, 7, 8, 9]"
      ]
     },
     "execution_count": 32,
     "metadata": {},
     "output_type": "execute_result"
    }
   ],
   "source": [
    "t"
   ]
  },
  {
   "cell_type": "code",
   "execution_count": 45,
   "id": "c130df94",
   "metadata": {},
   "outputs": [],
   "source": [
    "class Circle:\n",
    "    def __init__(self, r=1.5):\n",
    "        self.radius = r\n",
    "    def calcArea(self):\n",
    "        area = 3.14 * self.radius ** 2\n",
    "        return area\n",
    "    def calcPerimeter(self):\n",
    "        peri = 2 * 3.14 * self.radius\n",
    "        return peri"
   ]
  },
  {
   "cell_type": "code",
   "execution_count": 46,
   "id": "14f72475",
   "metadata": {},
   "outputs": [
    {
     "name": "stdout",
     "output_type": "stream",
     "text": [
      "Area: 28.26\n",
      "Perimeter:  18.84\n"
     ]
    }
   ],
   "source": [
    "c1 = Circle(3.0)\n",
    "print('Area:', c1.calcArea())\n",
    "print('Perimeter: ', c1.calcPerimeter())"
   ]
  },
  {
   "cell_type": "code",
   "execution_count": 47,
   "id": "6fd7d3fa",
   "metadata": {},
   "outputs": [
    {
     "name": "stdout",
     "output_type": "stream",
     "text": [
      "Area: 7.065\n",
      "Perimeter:  9.42\n"
     ]
    }
   ],
   "source": [
    "c2 = Circle()\n",
    "print('Area:', c2.calcArea())\n",
    "print('Perimeter: ', c2.calcPerimeter())"
   ]
  },
  {
   "cell_type": "code",
   "execution_count": 48,
   "id": "62e8deb5",
   "metadata": {},
   "outputs": [
    {
     "data": {
      "text/plain": [
       "6.708203932499369"
      ]
     },
     "execution_count": 48,
     "metadata": {},
     "output_type": "execute_result"
    }
   ],
   "source": [
    "import math\n",
    "math.sqrt(45)"
   ]
  },
  {
   "cell_type": "code",
   "execution_count": 49,
   "id": "ccbb5e05",
   "metadata": {},
   "outputs": [
    {
     "data": {
      "text/plain": [
       "3.8066624897703196"
      ]
     },
     "execution_count": 49,
     "metadata": {},
     "output_type": "execute_result"
    }
   ],
   "source": [
    "math.log(45)"
   ]
  },
  {
   "cell_type": "code",
   "execution_count": 50,
   "id": "0dbeced1",
   "metadata": {},
   "outputs": [
    {
     "data": {
      "text/plain": [
       "3.141592653589793"
      ]
     },
     "execution_count": 50,
     "metadata": {},
     "output_type": "execute_result"
    }
   ],
   "source": [
    "math.pi"
   ]
  },
  {
   "cell_type": "code",
   "execution_count": 51,
   "id": "a2cb6a21",
   "metadata": {},
   "outputs": [
    {
     "data": {
      "text/plain": [
       "2.718281828459045"
      ]
     },
     "execution_count": 51,
     "metadata": {},
     "output_type": "execute_result"
    }
   ],
   "source": [
    "math.e"
   ]
  },
  {
   "cell_type": "code",
   "execution_count": 52,
   "id": "4be2a471",
   "metadata": {},
   "outputs": [],
   "source": [
    "import time"
   ]
  },
  {
   "cell_type": "code",
   "execution_count": 54,
   "id": "91c70ab9",
   "metadata": {},
   "outputs": [
    {
     "data": {
      "text/plain": [
       "1684215913.41239"
      ]
     },
     "execution_count": 54,
     "metadata": {},
     "output_type": "execute_result"
    }
   ],
   "source": [
    "time.time()"
   ]
  },
  {
   "cell_type": "code",
   "execution_count": 55,
   "id": "5e4c0566",
   "metadata": {},
   "outputs": [
    {
     "data": {
      "text/plain": [
       "'Tue May 16 11:16:46 2023'"
      ]
     },
     "execution_count": 55,
     "metadata": {},
     "output_type": "execute_result"
    }
   ],
   "source": [
    "time.asctime()"
   ]
  },
  {
   "cell_type": "code",
   "execution_count": 56,
   "id": "a62ff31b",
   "metadata": {},
   "outputs": [
    {
     "data": {
      "text/plain": [
       "time.struct_time(tm_year=2023, tm_mon=5, tm_mday=16, tm_hour=11, tm_min=18, tm_sec=24, tm_wday=1, tm_yday=136, tm_isdst=0)"
      ]
     },
     "execution_count": 56,
     "metadata": {},
     "output_type": "execute_result"
    }
   ],
   "source": [
    "time.localtime()"
   ]
  },
  {
   "cell_type": "code",
   "execution_count": 57,
   "id": "0571b949",
   "metadata": {},
   "outputs": [
    {
     "name": "stdout",
     "output_type": "stream",
     "text": [
      "Hello\n",
      "World\n"
     ]
    }
   ],
   "source": [
    "print('Hello')\n",
    "time.sleep(5)\n",
    "print('World')"
   ]
  },
  {
   "cell_type": "code",
   "execution_count": 58,
   "id": "ea3900e3",
   "metadata": {},
   "outputs": [],
   "source": [
    "import math as m"
   ]
  },
  {
   "cell_type": "code",
   "execution_count": 59,
   "id": "7fb724a2",
   "metadata": {},
   "outputs": [
    {
     "data": {
      "text/plain": [
       "7.483314773547883"
      ]
     },
     "execution_count": 59,
     "metadata": {},
     "output_type": "execute_result"
    }
   ],
   "source": [
    "m.sqrt(56)"
   ]
  },
  {
   "cell_type": "code",
   "execution_count": 60,
   "id": "3277ab8a",
   "metadata": {},
   "outputs": [
    {
     "data": {
      "text/plain": [
       "0.8509035245341184"
      ]
     },
     "execution_count": 60,
     "metadata": {},
     "output_type": "execute_result"
    }
   ],
   "source": [
    "m.sin(45)"
   ]
  },
  {
   "cell_type": "code",
   "execution_count": 61,
   "id": "2c8a910b",
   "metadata": {},
   "outputs": [],
   "source": [
    "from math import sqrt, pi, log"
   ]
  },
  {
   "cell_type": "code",
   "execution_count": 62,
   "id": "dc5e36c2",
   "metadata": {},
   "outputs": [
    {
     "data": {
      "text/plain": [
       "5.830951894845301"
      ]
     },
     "execution_count": 62,
     "metadata": {},
     "output_type": "execute_result"
    }
   ],
   "source": [
    "sqrt(34)"
   ]
  },
  {
   "cell_type": "code",
   "execution_count": 63,
   "id": "8b3fc61e",
   "metadata": {},
   "outputs": [
    {
     "data": {
      "text/plain": [
       "3.141592653589793"
      ]
     },
     "execution_count": 63,
     "metadata": {},
     "output_type": "execute_result"
    }
   ],
   "source": [
    "pi"
   ]
  },
  {
   "cell_type": "code",
   "execution_count": 64,
   "id": "e39f30db",
   "metadata": {},
   "outputs": [
    {
     "data": {
      "text/plain": [
       "3.091042453358316"
      ]
     },
     "execution_count": 64,
     "metadata": {},
     "output_type": "execute_result"
    }
   ],
   "source": [
    "log(22)"
   ]
  },
  {
   "cell_type": "code",
   "execution_count": null,
   "id": "3620e0c2",
   "metadata": {},
   "outputs": [],
   "source": []
  }
 ],
 "metadata": {
  "kernelspec": {
   "display_name": "Python 3",
   "language": "python",
   "name": "python3"
  },
  "language_info": {
   "codemirror_mode": {
    "name": "ipython",
    "version": 3
   },
   "file_extension": ".py",
   "mimetype": "text/x-python",
   "name": "python",
   "nbconvert_exporter": "python",
   "pygments_lexer": "ipython3",
   "version": "3.8.10"
  }
 },
 "nbformat": 4,
 "nbformat_minor": 5
}
